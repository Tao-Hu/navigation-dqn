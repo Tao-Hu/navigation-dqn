{
 "cells": [
  {
   "cell_type": "markdown",
   "metadata": {},
   "source": [
    "# Navigation\n",
    "\n",
    "---\n",
    "\n",
    "In this notebook, you will learn how to use the Unity ML-Agents environment for the first project of the [Deep Reinforcement Learning Nanodegree](https://www.udacity.com/course/deep-reinforcement-learning-nanodegree--nd893).\n",
    "\n",
    "### 1. Start the Environment\n",
    "\n",
    "We begin by importing some necessary packages.  If the code cell below returns an error, please revisit the project instructions to double-check that you have installed [Unity ML-Agents](https://github.com/Unity-Technologies/ml-agents/blob/master/docs/Installation.md) and [NumPy](http://www.numpy.org/)."
   ]
  },
  {
   "cell_type": "code",
   "execution_count": 1,
   "metadata": {},
   "outputs": [],
   "source": [
    "from unityagents import UnityEnvironment\n",
    "import numpy as np"
   ]
  },
  {
   "cell_type": "markdown",
   "metadata": {},
   "source": [
    "Next, we will start the environment!  **_Before running the code cell below_**, change the `file_name` parameter to match the location of the Unity environment that you downloaded.\n",
    "\n",
    "- **Mac**: `\"path/to/Banana.app\"`\n",
    "- **Windows** (x86): `\"path/to/Banana_Windows_x86/Banana.exe\"`\n",
    "- **Windows** (x86_64): `\"path/to/Banana_Windows_x86_64/Banana.exe\"`\n",
    "- **Linux** (x86): `\"path/to/Banana_Linux/Banana.x86\"`\n",
    "- **Linux** (x86_64): `\"path/to/Banana_Linux/Banana.x86_64\"`\n",
    "- **Linux** (x86, headless): `\"path/to/Banana_Linux_NoVis/Banana.x86\"`\n",
    "- **Linux** (x86_64, headless): `\"path/to/Banana_Linux_NoVis/Banana.x86_64\"`\n",
    "\n",
    "For instance, if you are using a Mac, then you downloaded `Banana.app`.  If this file is in the same folder as the notebook, then the line below should appear as follows:\n",
    "```\n",
    "env = UnityEnvironment(file_name=\"Banana.app\")\n",
    "```"
   ]
  },
  {
   "cell_type": "code",
   "execution_count": 2,
   "metadata": {},
   "outputs": [
    {
     "name": "stderr",
     "output_type": "stream",
     "text": [
      "INFO:unityagents:\n",
      "'Academy' started successfully!\n",
      "Unity Academy name: Academy\n",
      "        Number of Brains: 1\n",
      "        Number of External Brains : 1\n",
      "        Lesson number : 0\n",
      "        Reset Parameters :\n",
      "\t\t\n",
      "Unity brain name: BananaBrain\n",
      "        Number of Visual Observations (per agent): 0\n",
      "        Vector Observation space type: continuous\n",
      "        Vector Observation space size (per agent): 37\n",
      "        Number of stacked Vector Observation: 1\n",
      "        Vector Action space type: discrete\n",
      "        Vector Action space size (per agent): 4\n",
      "        Vector Action descriptions: , , , \n"
     ]
    }
   ],
   "source": [
    "env = UnityEnvironment(file_name=\"Banana_Windows_x86_64/Banana.exe\")"
   ]
  },
  {
   "cell_type": "markdown",
   "metadata": {},
   "source": [
    "Environments contain **_brains_** which are responsible for deciding the actions of their associated agents. Here we check for the first brain available, and set it as the default brain we will be controlling from Python."
   ]
  },
  {
   "cell_type": "code",
   "execution_count": 3,
   "metadata": {},
   "outputs": [
    {
     "data": {
      "text/plain": [
       "'BananaBrain'"
      ]
     },
     "execution_count": 3,
     "metadata": {},
     "output_type": "execute_result"
    }
   ],
   "source": [
    "# get the default brain\n",
    "brain_name = env.brain_names[0]\n",
    "brain = env.brains[brain_name]\n",
    "brain_name"
   ]
  },
  {
   "cell_type": "markdown",
   "metadata": {},
   "source": [
    "### 2. Examine the State and Action Spaces\n",
    "\n",
    "The simulation contains a single agent that navigates a large environment.  At each time step, it has four actions at its disposal:\n",
    "- `0` - walk forward \n",
    "- `1` - walk backward\n",
    "- `2` - turn left\n",
    "- `3` - turn right\n",
    "\n",
    "The state space has `37` dimensions and contains the agent's velocity, along with ray-based perception of objects around agent's forward direction.  A reward of `+1` is provided for collecting a yellow banana, and a reward of `-1` is provided for collecting a blue banana. \n",
    "\n",
    "Run the code cell below to print some information about the environment."
   ]
  },
  {
   "cell_type": "code",
   "execution_count": 4,
   "metadata": {},
   "outputs": [
    {
     "name": "stdout",
     "output_type": "stream",
     "text": [
      "Number of agents: 1\n",
      "Number of actions: 4\n",
      "States look like: [1.         0.         0.         0.         0.84408134 0.\n",
      " 0.         1.         0.         0.0748472  0.         1.\n",
      " 0.         0.         0.25755    1.         0.         0.\n",
      " 0.         0.74177343 0.         1.         0.         0.\n",
      " 0.25854847 0.         0.         1.         0.         0.09355672\n",
      " 0.         1.         0.         0.         0.31969345 0.\n",
      " 0.        ]\n",
      "States have length: 37\n"
     ]
    }
   ],
   "source": [
    "# reset the environment\n",
    "env_info = env.reset(train_mode=True)[brain_name]\n",
    "\n",
    "# number of agents in the environment\n",
    "print('Number of agents:', len(env_info.agents))\n",
    "\n",
    "# number of actions\n",
    "action_size = brain.vector_action_space_size\n",
    "print('Number of actions:', action_size)\n",
    "\n",
    "# examine the state space \n",
    "state = env_info.vector_observations[0]\n",
    "print('States look like:', state)\n",
    "state_size = len(state)\n",
    "print('States have length:', state_size)"
   ]
  },
  {
   "cell_type": "markdown",
   "metadata": {},
   "source": [
    "### 3. Take Random Actions in the Environment\n",
    "\n",
    "In the next code cell, you will learn how to use the Python API to control the agent and receive feedback from the environment.\n",
    "\n",
    "Once this cell is executed, you will watch the agent's performance, if it selects an action (uniformly) at random with each time step.  A window should pop up that allows you to observe the agent, as it moves through the environment.  \n",
    "\n",
    "Of course, as part of the project, you'll have to change the code so that the agent is able to use its experience to gradually choose better actions when interacting with the environment!"
   ]
  },
  {
   "cell_type": "code",
   "execution_count": 5,
   "metadata": {},
   "outputs": [
    {
     "name": "stdout",
     "output_type": "stream",
     "text": [
      "Score: 0.0\n",
      "Total steps: 300\n"
     ]
    }
   ],
   "source": [
    "env_info = env.reset(train_mode=False)[brain_name] # reset the environment\n",
    "state = env_info.vector_observations[0]            # get the current state\n",
    "score = 0                                          # initialize the score\n",
    "steps = 0\n",
    "while True:\n",
    "    action = np.random.randint(action_size)        # select an action\n",
    "    env_info = env.step(action)[brain_name]        # send the action to the environment\n",
    "    next_state = env_info.vector_observations[0]   # get the next state\n",
    "    reward = env_info.rewards[0]                   # get the reward\n",
    "    done = env_info.local_done[0]                  # see if episode has finished\n",
    "    score += reward                                # update the score\n",
    "    state = next_state                             # roll over the state to next time step\n",
    "    steps += 1\n",
    "    if done:                                       # exit loop if episode finished\n",
    "        break\n",
    "    \n",
    "print(\"Score: {}\".format(score))\n",
    "print(\"Total steps: {}\".format(steps))"
   ]
  },
  {
   "cell_type": "markdown",
   "metadata": {},
   "source": [
    "When finished, you can close the environment."
   ]
  },
  {
   "cell_type": "code",
   "execution_count": 11,
   "metadata": {},
   "outputs": [],
   "source": [
    "env.close()"
   ]
  },
  {
   "cell_type": "markdown",
   "metadata": {},
   "source": [
    "### 4. It's Your Turn!\n",
    "\n",
    "Now it's your turn to train your own agent to solve the environment!  When training the environment, set `train_mode=True`, so that the line for resetting the environment looks like the following:\n",
    "```python\n",
    "env_info = env.reset(train_mode=True)[brain_name]\n",
    "```"
   ]
  },
  {
   "cell_type": "markdown",
   "metadata": {},
   "source": [
    "#### 4.1. Training with DQN\n",
    "\n",
    "First, let's train the agent using original DQN (with fixed target Q netowrk)."
   ]
  },
  {
   "cell_type": "code",
   "execution_count": 6,
   "metadata": {},
   "outputs": [
    {
     "name": "stdout",
     "output_type": "stream",
     "text": [
      "Episode 100\tAverage Score of most recent 100 episodes: 0.68\n",
      "Episode 200\tAverage Score of most recent 100 episodes: 2.13\n",
      "Episode 300\tAverage Score of most recent 100 episodes: 3.52\n",
      "Episode 400\tAverage Score of most recent 100 episodes: 6.30\n",
      "Episode 500\tAverage Score of most recent 100 episodes: 7.27\n",
      "Episode 600\tAverage Score of most recent 100 episodes: 8.17\n",
      "Episode 700\tAverage Score of most recent 100 episodes: 9.87\n",
      "Episode 800\tAverage Score of most recent 100 episodes: 10.87\n",
      "Episode 900\tAverage Score of most recent 100 episodes: 11.04\n",
      "Episode 1000\tAverage Score of most recent 100 episodes: 10.39\n",
      "Episode 1100\tAverage Score of most recent 100 episodes: 11.48\n",
      "Episode 1200\tAverage Score of most recent 100 episodes: 11.54\n",
      "Episode 1300\tAverage Score of most recent 100 episodes: 13.08\n",
      "Episode 1400\tAverage Score of most recent 100 episodes: 11.52\n",
      "Episode 1500\tAverage Score of most recent 100 episodes: 13.03\n",
      "Episode 1600\tAverage Score of most recent 100 episodes: 13.11\n",
      "Episode 1700\tAverage Score of most recent 100 episodes: 13.48\n",
      "Episode 1800\tAverage Score of most recent 100 episodes: 13.50\n",
      "Episode 1900\tAverage Score of most recent 100 episodes: 13.93\n",
      "Episode 2000\tAverage Score of most recent 100 episodes: 13.37\n"
     ]
    },
    {
     "data": {
      "image/png": "[encoded data removed]",
      "text/plain": [
       "<Figure size 432x288 with 1 Axes>"
      ]
     },
     "metadata": {
      "needs_background": "light"
     },
     "output_type": "display_data"
    }
   ],
   "source": [
    "from collections import deque\n",
    "import torch\n",
    "from dqn_agent import Agent\n",
    "import matplotlib.pyplot as plt\n",
    "%matplotlib inline\n",
    "\n",
    "agent_dqn = Agent(state_size = 37, action_size = 4, seed = 1, hidden_layers = [128, 64])\n",
    "\n",
    "def dqn(agent, n_episodes = 2000, eps_start = 1.0, eps_end = 0.01, eps_decay = 0.995):\n",
    "    \"\"\"Deep Q-Learning.\"\"\"\n",
    "    # List containing scores from each episode\n",
    "    scores = []\n",
    "    # Last 100 scores\n",
    "    scores_window = deque(maxlen = 100)\n",
    "    # initial epsilon for epsilon-greedy policy\n",
    "    eps = eps_start\n",
    "\n",
    "    for i_episode in range(1, n_episodes + 1):\n",
    "        # reset environment\n",
    "        env_info = env.reset(train_mode=True)[brain_name]\n",
    "        # get current state\n",
    "        state = env_info.vector_observations[0]\n",
    "        # initialize the score\n",
    "        score = 0\n",
    "\n",
    "        # start the episode\n",
    "        while True:\n",
    "            # choose action from epsilon-greedy pilicy based on current Q function estimation\n",
    "            action = agent.act(state, eps)\n",
    "            #print('Action choice: {}\\tReturn type: {}'.format(action, type(action)))\n",
    "            # send the action to the environment\n",
    "            env_info = env.step(action)[brain_name]\n",
    "            # get the next state\n",
    "            next_state = env_info.vector_observations[0]\n",
    "            # get the reward\n",
    "            reward = env_info.rewards[0]\n",
    "            # see if episode has finished\n",
    "            done = env_info.local_done[0]\n",
    "\n",
    "            # Learning\n",
    "            agent.step(state, action, reward, next_state, done)\n",
    "\n",
    "            # update the score\n",
    "            score += reward\n",
    "            # roll over the state to next time step\n",
    "            state = next_state\n",
    "\n",
    "            if done:\n",
    "                break\n",
    "\n",
    "        # Save most recent score\n",
    "        scores.append(score)\n",
    "        scores_window.append(score)\n",
    "        # Decrease epsilon for epsilon-greedy policy\n",
    "        eps = max(eps_end, eps_decay * eps)\n",
    "        # Print learning process every 100 episodes\n",
    "        if i_episode % 100 == 0:\n",
    "            print('\\rEpisode {}\\tAverage Score of most recent 100 episodes: {:.2f}'.format(i_episode, np.mean(scores_window)))\n",
    "\n",
    "    return scores\n",
    "\n",
    "\n",
    "scores = dqn(agent = agent_dqn)\n",
    "\n",
    "# plot the scores\n",
    "fig = plt.figure()\n",
    "ax = fig.add_subplot(111)\n",
    "plt.plot(np.arange(len(scores)), scores)\n",
    "plt.ylabel('Score')\n",
    "plt.xlabel('Episode #')\n",
    "plt.show()"
   ]
  },
  {
   "cell_type": "markdown",
   "metadata": {},
   "source": [
    "#### 4.2. Training with double DQN\n",
    "\n",
    "Now, let's train the agent using double DQN."
   ]
  },
  {
   "cell_type": "code",
   "execution_count": 7,
   "metadata": {},
   "outputs": [],
   "source": [
    "def dqn(agent, n_episodes = 2000, eps_start = 1.0, eps_end = 0.01, eps_decay = 0.995):\n",
    "    \"\"\"Deep Q-Learning.\"\"\"\n",
    "    # List containing scores from each episode\n",
    "    scores = []\n",
    "    # Last 100 scores\n",
    "    scores_window = deque(maxlen = 100)\n",
    "    # initial epsilon for epsilon-greedy policy\n",
    "    eps = eps_start\n",
    "\n",
    "    for i_episode in range(1, n_episodes + 1):\n",
    "        # reset environment\n",
    "        env_info = env.reset(train_mode=True)[brain_name]\n",
    "        # get current state\n",
    "        state = env_info.vector_observations[0]\n",
    "        # initialize the score\n",
    "        score = 0\n",
    "\n",
    "        # start the episode\n",
    "        while True:\n",
    "            # choose action from epsilon-greedy pilicy based on current Q function estimation\n",
    "            action = agent.act(state, eps)\n",
    "            #print('Action choice: {}\\tReturn type: {}'.format(action, type(action)))\n",
    "            # send the action to the environment\n",
    "            env_info = env.step(action)[brain_name]\n",
    "            # get the next state\n",
    "            next_state = env_info.vector_observations[0]\n",
    "            # get the reward\n",
    "            reward = env_info.rewards[0]\n",
    "            # see if episode has finished\n",
    "            done = env_info.local_done[0]\n",
    "\n",
    "            # Learning\n",
    "            agent.step(state, action, reward, next_state, done)\n",
    "\n",
    "            # update the score\n",
    "            score += reward\n",
    "            # roll over the state to next time step\n",
    "            state = next_state\n",
    "\n",
    "            if done:\n",
    "                break\n",
    "\n",
    "        # Save most recent score\n",
    "        scores.append(score)\n",
    "        scores_window.append(score)\n",
    "        # Decrease epsilon for epsilon-greedy policy\n",
    "        eps = max(eps_end, eps_decay * eps)\n",
    "        # Print learning process every 100 episodes\n",
    "        if i_episode % 100 == 0:\n",
    "            print('\\rEpisode {}\\tAverage Score of most recent 100 episodes: {:.2f}'.format(i_episode, np.mean(scores_window)))\n",
    "\n",
    "    return scores\n"
   ]
  },
  {
   "cell_type": "code",
   "execution_count": 8,
   "metadata": {},
   "outputs": [
    {
     "name": "stdout",
     "output_type": "stream",
     "text": [
      "Episode 100\tAverage Score of most recent 100 episodes: 0.54\n",
      "Episode 200\tAverage Score of most recent 100 episodes: 2.68\n",
      "Episode 300\tAverage Score of most recent 100 episodes: 5.18\n",
      "Episode 400\tAverage Score of most recent 100 episodes: 7.73\n",
      "Episode 500\tAverage Score of most recent 100 episodes: 8.79\n",
      "Episode 600\tAverage Score of most recent 100 episodes: 10.18\n",
      "Episode 700\tAverage Score of most recent 100 episodes: 12.12\n",
      "Episode 800\tAverage Score of most recent 100 episodes: 13.45\n",
      "Episode 900\tAverage Score of most recent 100 episodes: 14.08\n",
      "Episode 1000\tAverage Score of most recent 100 episodes: 13.98\n",
      "Episode 1100\tAverage Score of most recent 100 episodes: 13.44\n",
      "Episode 1200\tAverage Score of most recent 100 episodes: 14.04\n",
      "Episode 1300\tAverage Score of most recent 100 episodes: 13.51\n",
      "Episode 1400\tAverage Score of most recent 100 episodes: 13.13\n",
      "Episode 1500\tAverage Score of most recent 100 episodes: 14.17\n",
      "Episode 1600\tAverage Score of most recent 100 episodes: 14.64\n",
      "Episode 1700\tAverage Score of most recent 100 episodes: 13.71\n",
      "Episode 1800\tAverage Score of most recent 100 episodes: 14.48\n",
      "Episode 1900\tAverage Score of most recent 100 episodes: 15.13\n",
      "Episode 2000\tAverage Score of most recent 100 episodes: 14.07\n"
     ]
    },
    {
     "data": {
      "image/png": "[encoded data removed]",
      "text/plain": [
       "<Figure size 432x288 with 1 Axes>"
      ]
     },
     "metadata": {
      "needs_background": "light"
     },
     "output_type": "display_data"
    }
   ],
   "source": [
    "agent_double_dqn = Agent(state_size = 37, action_size = 4, seed = 1, hidden_layers = [128, 64], double_dqn = True)\n",
    "\n",
    "scores = dqn(agent = agent_double_dqn)\n",
    "\n",
    "# plot the scores\n",
    "fig = plt.figure()\n",
    "ax = fig.add_subplot(111)\n",
    "plt.plot(np.arange(len(scores)), scores)\n",
    "plt.ylabel('Score')\n",
    "plt.xlabel('Episode #')\n",
    "plt.show()"
   ]
  }
 ],
 "metadata": {
  "kernelspec": {
   "display_name": "drlnd",
   "language": "python",
   "name": "drlnd"
  },
  "language_info": {
   "codemirror_mode": {
    "name": "ipython",
    "version": 3
   },
   "file_extension": ".py",
   "mimetype": "text/x-python",
   "name": "python",
   "nbconvert_exporter": "python",
   "pygments_lexer": "ipython3",
   "version": "3.6.10"
  }
 },
 "nbformat": 4,
 "nbformat_minor": 2
}
